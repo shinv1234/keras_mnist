{
 "cells": [
  {
   "cell_type": "code",
   "execution_count": 1,
   "metadata": {},
   "outputs": [
    {
     "name": "stderr",
     "output_type": "stream",
     "text": [
      "Using TensorFlow backend.\n"
     ]
    }
   ],
   "source": [
    "from keras.datasets import mnist\n",
    "from keras.utils import np_utils\n",
    "from keras.models import Sequential\n",
    "from keras.layers.core import Dense\n",
    "from keras.optimizers import SGD\n",
    "\n",
    "import numpy as np\n",
    "import matplotlib as mpl\n",
    "mpl.rc('font', family='NanumGothic')\n",
    "import matplotlib.pylab as plt"
   ]
  },
  {
   "cell_type": "code",
   "execution_count": 2,
   "metadata": {},
   "outputs": [],
   "source": [
    "(X_train0, y_train0), (X_test0, y_test0) = mnist.load_data()"
   ]
  },
  {
   "cell_type": "code",
   "execution_count": 3,
   "metadata": {},
   "outputs": [
    {
     "name": "stdout",
     "output_type": "stream",
     "text": [
      "(60000, 28, 28) uint8\n",
      "(60000,) uint8\n",
      "(10000, 28, 28) uint8\n",
      "(10000,) uint8\n"
     ]
    }
   ],
   "source": [
    "print(X_train0.shape, X_train0.dtype)\n",
    "print(y_train0.shape, y_train0.dtype)\n",
    "print(X_test0.shape, X_test0.dtype)\n",
    "print(y_test0.shape, y_test0.dtype)"
   ]
  },
  {
   "cell_type": "code",
   "execution_count": 7,
   "metadata": {},
   "outputs": [
    {
     "data": {
      "image/png": "[encoded data removed]",
      "text/plain": [
       "<matplotlib.figure.Figure at 0xf9cbc18>"
      ]
     },
     "metadata": {},
     "output_type": "display_data"
    }
   ],
   "source": [
    "plt.imshow(X_train0[0])\n",
    "plt.grid(True)\n",
    "plt.show()"
   ]
  },
  {
   "cell_type": "code",
   "execution_count": 13,
   "metadata": {},
   "outputs": [
    {
     "data": {
      "text/plain": [
       "((28, 28), 784)"
      ]
     },
     "execution_count": 13,
     "metadata": {},
     "output_type": "execute_result"
    }
   ],
   "source": [
    "X_train0[0].shape, 28*28"
   ]
  },
  {
   "cell_type": "code",
   "execution_count": 11,
   "metadata": {},
   "outputs": [
    {
     "data": {
      "text/plain": [
       "array([[  0,   0,   0,   0,   0,   0,   0,   0,   0,   0,   0,   0,   0,\n",
       "          0,   0,   0,   0,   0,   0,   0,   0,   0,   0,   0,   0,   0,\n",
       "          0,   0],\n",
       "       [  0,   0,   0,   0,   0,   0,   0,   0,   0,   0,   0,   0,   0,\n",
       "          0,   0,   0,   0,   0,   0,   0,   0,   0,   0,   0,   0,   0,\n",
       "          0,   0],\n",
       "       [  0,   0,   0,   0,   0,   0,   0,   0,   0,   0,   0,   0,   0,\n",
       "          0,   0,   0,   0,   0,   0,   0,   0,   0,   0,   0,   0,   0,\n",
       "          0,   0],\n",
       "       [  0,   0,   0,   0,   0,   0,   0,   0,   0,   0,   0,   0,   0,\n",
       "          0,   0,   0,   0,   0,   0,   0,   0,   0,   0,   0,   0,   0,\n",
       "          0,   0],\n",
       "       [  0,   0,   0,   0,   0,   0,   0,   0,   0,   0,   0,   0,   0,\n",
       "          0,   0,   0,   0,   0,   0,   0,   0,   0,   0,   0,   0,   0,\n",
       "          0,   0],\n",
       "       [  0,   0,   0,   0,   0,   0,   0,   0,   0,   0,   0,   0,   3,\n",
       "         18,  18,  18, 126, 136, 175,  26, 166, 255, 247, 127,   0,   0,\n",
       "          0,   0],\n",
       "       [  0,   0,   0,   0,   0,   0,   0,   0,  30,  36,  94, 154, 170,\n",
       "        253, 253, 253, 253, 253, 225, 172, 253, 242, 195,  64,   0,   0,\n",
       "          0,   0],\n",
       "       [  0,   0,   0,   0,   0,   0,   0,  49, 238, 253, 253, 253, 253,\n",
       "        253, 253, 253, 253, 251,  93,  82,  82,  56,  39,   0,   0,   0,\n",
       "          0,   0],\n",
       "       [  0,   0,   0,   0,   0,   0,   0,  18, 219, 253, 253, 253, 253,\n",
       "        253, 198, 182, 247, 241,   0,   0,   0,   0,   0,   0,   0,   0,\n",
       "          0,   0],\n",
       "       [  0,   0,   0,   0,   0,   0,   0,   0,  80, 156, 107, 253, 253,\n",
       "        205,  11,   0,  43, 154,   0,   0,   0,   0,   0,   0,   0,   0,\n",
       "          0,   0],\n",
       "       [  0,   0,   0,   0,   0,   0,   0,   0,   0,  14,   1, 154, 253,\n",
       "         90,   0,   0,   0,   0,   0,   0,   0,   0,   0,   0,   0,   0,\n",
       "          0,   0],\n",
       "       [  0,   0,   0,   0,   0,   0,   0,   0,   0,   0,   0, 139, 253,\n",
       "        190,   2,   0,   0,   0,   0,   0,   0,   0,   0,   0,   0,   0,\n",
       "          0,   0],\n",
       "       [  0,   0,   0,   0,   0,   0,   0,   0,   0,   0,   0,  11, 190,\n",
       "        253,  70,   0,   0,   0,   0,   0,   0,   0,   0,   0,   0,   0,\n",
       "          0,   0],\n",
       "       [  0,   0,   0,   0,   0,   0,   0,   0,   0,   0,   0,   0,  35,\n",
       "        241, 225, 160, 108,   1,   0,   0,   0,   0,   0,   0,   0,   0,\n",
       "          0,   0],\n",
       "       [  0,   0,   0,   0,   0,   0,   0,   0,   0,   0,   0,   0,   0,\n",
       "         81, 240, 253, 253, 119,  25,   0,   0,   0,   0,   0,   0,   0,\n",
       "          0,   0],\n",
       "       [  0,   0,   0,   0,   0,   0,   0,   0,   0,   0,   0,   0,   0,\n",
       "          0,  45, 186, 253, 253, 150,  27,   0,   0,   0,   0,   0,   0,\n",
       "          0,   0],\n",
       "       [  0,   0,   0,   0,   0,   0,   0,   0,   0,   0,   0,   0,   0,\n",
       "          0,   0,  16,  93, 252, 253, 187,   0,   0,   0,   0,   0,   0,\n",
       "          0,   0],\n",
       "       [  0,   0,   0,   0,   0,   0,   0,   0,   0,   0,   0,   0,   0,\n",
       "          0,   0,   0,   0, 249, 253, 249,  64,   0,   0,   0,   0,   0,\n",
       "          0,   0],\n",
       "       [  0,   0,   0,   0,   0,   0,   0,   0,   0,   0,   0,   0,   0,\n",
       "          0,  46, 130, 183, 253, 253, 207,   2,   0,   0,   0,   0,   0,\n",
       "          0,   0],\n",
       "       [  0,   0,   0,   0,   0,   0,   0,   0,   0,   0,   0,   0,  39,\n",
       "        148, 229, 253, 253, 253, 250, 182,   0,   0,   0,   0,   0,   0,\n",
       "          0,   0],\n",
       "       [  0,   0,   0,   0,   0,   0,   0,   0,   0,   0,  24, 114, 221,\n",
       "        253, 253, 253, 253, 201,  78,   0,   0,   0,   0,   0,   0,   0,\n",
       "          0,   0],\n",
       "       [  0,   0,   0,   0,   0,   0,   0,   0,  23,  66, 213, 253, 253,\n",
       "        253, 253, 198,  81,   2,   0,   0,   0,   0,   0,   0,   0,   0,\n",
       "          0,   0],\n",
       "       [  0,   0,   0,   0,   0,   0,  18, 171, 219, 253, 253, 253, 253,\n",
       "        195,  80,   9,   0,   0,   0,   0,   0,   0,   0,   0,   0,   0,\n",
       "          0,   0],\n",
       "       [  0,   0,   0,   0,  55, 172, 226, 253, 253, 253, 253, 244, 133,\n",
       "         11,   0,   0,   0,   0,   0,   0,   0,   0,   0,   0,   0,   0,\n",
       "          0,   0],\n",
       "       [  0,   0,   0,   0, 136, 253, 253, 253, 212, 135, 132,  16,   0,\n",
       "          0,   0,   0,   0,   0,   0,   0,   0,   0,   0,   0,   0,   0,\n",
       "          0,   0],\n",
       "       [  0,   0,   0,   0,   0,   0,   0,   0,   0,   0,   0,   0,   0,\n",
       "          0,   0,   0,   0,   0,   0,   0,   0,   0,   0,   0,   0,   0,\n",
       "          0,   0],\n",
       "       [  0,   0,   0,   0,   0,   0,   0,   0,   0,   0,   0,   0,   0,\n",
       "          0,   0,   0,   0,   0,   0,   0,   0,   0,   0,   0,   0,   0,\n",
       "          0,   0],\n",
       "       [  0,   0,   0,   0,   0,   0,   0,   0,   0,   0,   0,   0,   0,\n",
       "          0,   0,   0,   0,   0,   0,   0,   0,   0,   0,   0,   0,   0,\n",
       "          0,   0]], dtype=uint8)"
      ]
     },
     "execution_count": 11,
     "metadata": {},
     "output_type": "execute_result"
    }
   ],
   "source": [
    "X_train0[0]"
   ]
  },
  {
   "cell_type": "code",
   "execution_count": 8,
   "metadata": {},
   "outputs": [
    {
     "name": "stdout",
     "output_type": "stream",
     "text": [
      "(60000, 784) float32\n",
      "(10000, 784) float32\n"
     ]
    }
   ],
   "source": [
    "X_train = X_train0.reshape(60000, 784).astype('float32')/255.0\n",
    "X_test = X_test0.reshape(10000, 784).astype('float32')/255.0\n",
    "print(X_train.shape, X_train.dtype)\n",
    "print(X_test.shape, X_test.dtype)"
   ]
  },
  {
   "cell_type": "code",
   "execution_count": 15,
   "metadata": {},
   "outputs": [
    {
     "data": {
      "text/plain": [
       "array([5, 0, 4, 1, 9], dtype=uint8)"
      ]
     },
     "execution_count": 15,
     "metadata": {},
     "output_type": "execute_result"
    }
   ],
   "source": [
    "y_train0[:5]"
   ]
  },
  {
   "cell_type": "code",
   "execution_count": 9,
   "metadata": {},
   "outputs": [
    {
     "data": {
      "text/plain": [
       "array([[ 0.,  0.,  0.,  0.,  0.,  1.,  0.,  0.,  0.,  0.],\n",
       "       [ 1.,  0.,  0.,  0.,  0.,  0.,  0.,  0.,  0.,  0.],\n",
       "       [ 0.,  0.,  0.,  0.,  1.,  0.,  0.,  0.,  0.,  0.],\n",
       "       [ 0.,  1.,  0.,  0.,  0.,  0.,  0.,  0.,  0.,  0.],\n",
       "       [ 0.,  0.,  0.,  0.,  0.,  0.,  0.,  0.,  0.,  1.]])"
      ]
     },
     "execution_count": 9,
     "metadata": {},
     "output_type": "execute_result"
    }
   ],
   "source": [
    "Y_train = np_utils.to_categorical(y_train0, 10)\n",
    "Y_test = np_utils.to_categorical(y_test0, 10)\n",
    "Y_train[:5]"
   ]
  },
  {
   "cell_type": "code",
   "execution_count": 11,
   "metadata": {
    "collapsed": true
   },
   "outputs": [],
   "source": [
    "np.random.seed(0)\n",
    "\n",
    "model = Sequential()\n",
    "model.add(Dense(50, input_dim=784, activation=\"relu\"))\n",
    "model.add(Dense(10, activation=\"sigmoid\"))\n",
    "model.compile(optimizer=SGD(lr=0.2), loss='mean_squared_error', metrics=[\"accuracy\"])"
   ]
  },
  {
   "cell_type": "code",
   "execution_count": 19,
   "metadata": {},
   "outputs": [
    {
     "data": {
      "image/svg+xml": [
       "<svg height=\"191pt\" viewBox=\"0.00 0.00 174.00 191.00\" width=\"174pt\" xmlns=\"http://www.w3.org/2000/svg\" xmlns:xlink=\"http://www.w3.org/1999/xlink\">\n",
       "<g class=\"graph\" id=\"graph0\" transform=\"scale(1 1) rotate(0) translate(4 187)\">\n",
       "<title>G</title>\n",
       "<polygon fill=\"white\" points=\"-4,4 -4,-187 170,-187 170,4 -4,4\" stroke=\"none\"/>\n",
       "<!-- 122666400 -->\n",
       "<g class=\"node\" id=\"node1\"><title>122666400</title>\n",
       "<polygon fill=\"none\" points=\"0,-146.5 0,-182.5 166,-182.5 166,-146.5 0,-146.5\" stroke=\"black\"/>\n",
       "<text font-family=\"Times New Roman,serif\" font-size=\"14.00\" text-anchor=\"middle\" x=\"83\" y=\"-160.8\">dense_4_input: InputLayer</text>\n",
       "</g>\n",
       "<!-- 122665000 -->\n",
       "<g class=\"node\" id=\"node2\"><title>122665000</title>\n",
       "<polygon fill=\"none\" points=\"31,-73.5 31,-109.5 135,-109.5 135,-73.5 31,-73.5\" stroke=\"black\"/>\n",
       "<text font-family=\"Times New Roman,serif\" font-size=\"14.00\" text-anchor=\"middle\" x=\"83\" y=\"-87.8\">dense_4: Dense</text>\n",
       "</g>\n",
       "<!-- 122666400&#45;&gt;122665000 -->\n",
       "<g class=\"edge\" id=\"edge1\"><title>122666400-&gt;122665000</title>\n",
       "<path d=\"M83,-146.313C83,-138.289 83,-128.547 83,-119.569\" fill=\"none\" stroke=\"black\"/>\n",
       "<polygon fill=\"black\" points=\"86.5001,-119.529 83,-109.529 79.5001,-119.529 86.5001,-119.529\" stroke=\"black\"/>\n",
       "</g>\n",
       "<!-- 122664440 -->\n",
       "<g class=\"node\" id=\"node3\"><title>122664440</title>\n",
       "<polygon fill=\"none\" points=\"31,-0.5 31,-36.5 135,-36.5 135,-0.5 31,-0.5\" stroke=\"black\"/>\n",
       "<text font-family=\"Times New Roman,serif\" font-size=\"14.00\" text-anchor=\"middle\" x=\"83\" y=\"-14.8\">dense_5: Dense</text>\n",
       "</g>\n",
       "<!-- 122665000&#45;&gt;122664440 -->\n",
       "<g class=\"edge\" id=\"edge2\"><title>122665000-&gt;122664440</title>\n",
       "<path d=\"M83,-73.3129C83,-65.2895 83,-55.5475 83,-46.5691\" fill=\"none\" stroke=\"black\"/>\n",
       "<polygon fill=\"black\" points=\"86.5001,-46.5288 83,-36.5288 79.5001,-46.5289 86.5001,-46.5288\" stroke=\"black\"/>\n",
       "</g>\n",
       "</g>\n",
       "</svg>"
      ],
      "text/plain": [
       "<IPython.core.display.SVG object>"
      ]
     },
     "execution_count": 19,
     "metadata": {},
     "output_type": "execute_result"
    }
   ],
   "source": [
    "from IPython.display import SVG\n",
    "from keras.utils.vis_utils import model_to_dot\n",
    "\n",
    "SVG(model_to_dot(model).create(prog='dot', format='svg'))"
   ]
  },
  {
   "cell_type": "code",
   "execution_count": 20,
   "metadata": {},
   "outputs": [
    {
     "data": {
      "text/plain": [
       "[<keras.layers.core.Dense at 0x74fb828>,\n",
       " <keras.layers.core.Dense at 0x74fb5f8>]"
      ]
     },
     "execution_count": 20,
     "metadata": {},
     "output_type": "execute_result"
    }
   ],
   "source": [
    "model.layers"
   ]
  },
  {
   "cell_type": "code",
   "execution_count": 21,
   "metadata": {
    "collapsed": true
   },
   "outputs": [],
   "source": [
    "l1 = model.layers[0]\n",
    "l2 = model.layers[1]"
   ]
  },
  {
   "cell_type": "code",
   "execution_count": 22,
   "metadata": {},
   "outputs": [
    {
     "data": {
      "text/plain": [
       "'dense_4'"
      ]
     },
     "execution_count": 22,
     "metadata": {},
     "output_type": "execute_result"
    }
   ],
   "source": [
    "l1.name"
   ]
  },
  {
   "cell_type": "code",
   "execution_count": 23,
   "metadata": {},
   "outputs": [
    {
     "data": {
      "text/plain": [
       "(None, 784)"
      ]
     },
     "execution_count": 23,
     "metadata": {},
     "output_type": "execute_result"
    }
   ],
   "source": [
    "l1.input_shape"
   ]
  },
  {
   "cell_type": "code",
   "execution_count": 24,
   "metadata": {},
   "outputs": [
    {
     "data": {
      "text/plain": [
       "(None, 50)"
      ]
     },
     "execution_count": 24,
     "metadata": {},
     "output_type": "execute_result"
    }
   ],
   "source": [
    "l1.output_shape"
   ]
  },
  {
   "cell_type": "code",
   "execution_count": 25,
   "metadata": {},
   "outputs": [
    {
     "data": {
      "text/plain": [
       "<function keras.activations.relu>"
      ]
     },
     "execution_count": 25,
     "metadata": {},
     "output_type": "execute_result"
    }
   ],
   "source": [
    "l1.activation"
   ]
  },
  {
   "cell_type": "code",
   "execution_count": 26,
   "metadata": {},
   "outputs": [
    {
     "data": {
      "text/plain": [
       "'dense_5'"
      ]
     },
     "execution_count": 26,
     "metadata": {},
     "output_type": "execute_result"
    }
   ],
   "source": [
    "l2.name"
   ]
  },
  {
   "cell_type": "code",
   "execution_count": 27,
   "metadata": {},
   "outputs": [
    {
     "data": {
      "text/plain": [
       "(None, 50)"
      ]
     },
     "execution_count": 27,
     "metadata": {},
     "output_type": "execute_result"
    }
   ],
   "source": [
    "l2.input_shape"
   ]
  },
  {
   "cell_type": "code",
   "execution_count": 28,
   "metadata": {},
   "outputs": [
    {
     "data": {
      "text/plain": [
       "(None, 10)"
      ]
     },
     "execution_count": 28,
     "metadata": {},
     "output_type": "execute_result"
    }
   ],
   "source": [
    "l2.output_shape"
   ]
  },
  {
   "cell_type": "code",
   "execution_count": 29,
   "metadata": {},
   "outputs": [
    {
     "data": {
      "text/plain": [
       "<function keras.activations.sigmoid>"
      ]
     },
     "execution_count": 29,
     "metadata": {},
     "output_type": "execute_result"
    }
   ],
   "source": [
    "l2.activation"
   ]
  },
  {
   "cell_type": "code",
   "execution_count": 12,
   "metadata": {},
   "outputs": [
    {
     "name": "stderr",
     "output_type": "stream",
     "text": [
      "C:\\Users\\a\\AppData\\Local\\Programs\\Python\\Python35\\lib\\site-packages\\keras\\models.py:837: UserWarning: The `nb_epoch` argument in `fit` has been renamed `epochs`.\n",
      "  warnings.warn('The `nb_epoch` argument in `fit` '\n"
     ]
    },
    {
     "name": "stdout",
     "output_type": "stream",
     "text": [
      "Train on 60000 samples, validate on 10000 samples\n",
      "Epoch 1/100\n",
      "4s - loss: 0.0422 - acc: 0.7848 - val_loss: 0.0242 - val_acc: 0.8884\n",
      "Epoch 2/100\n",
      "2s - loss: 0.0221 - acc: 0.8889 - val_loss: 0.0189 - val_acc: 0.9068\n",
      "Epoch 3/100\n",
      "2s - loss: 0.0186 - acc: 0.9030 - val_loss: 0.0165 - val_acc: 0.9150\n",
      "Epoch 4/100\n",
      "2s - loss: 0.0166 - acc: 0.9111 - val_loss: 0.0149 - val_acc: 0.9231\n",
      "Epoch 5/100\n",
      "3s - loss: 0.0151 - acc: 0.9194 - val_loss: 0.0138 - val_acc: 0.9279\n",
      "Epoch 6/100\n",
      "2s - loss: 0.0140 - acc: 0.9254 - val_loss: 0.0129 - val_acc: 0.9311\n",
      "Epoch 7/100\n",
      "2s - loss: 0.0131 - acc: 0.9299 - val_loss: 0.0122 - val_acc: 0.9357\n",
      "Epoch 8/100\n",
      "2s - loss: 0.0124 - acc: 0.9339 - val_loss: 0.0116 - val_acc: 0.9370\n",
      "Epoch 9/100\n",
      "3s - loss: 0.0117 - acc: 0.9371 - val_loss: 0.0111 - val_acc: 0.9400\n",
      "Epoch 10/100\n",
      "3s - loss: 0.0112 - acc: 0.9399 - val_loss: 0.0107 - val_acc: 0.9427\n",
      "Epoch 11/100\n",
      "3s - loss: 0.0107 - acc: 0.9424 - val_loss: 0.0103 - val_acc: 0.9441\n",
      "Epoch 12/100\n",
      "2s - loss: 0.0103 - acc: 0.9450 - val_loss: 0.0100 - val_acc: 0.9462\n",
      "Epoch 13/100\n",
      "2s - loss: 0.0099 - acc: 0.9471 - val_loss: 0.0097 - val_acc: 0.9472\n",
      "Epoch 14/100\n",
      "2s - loss: 0.0096 - acc: 0.9493 - val_loss: 0.0094 - val_acc: 0.9491\n",
      "Epoch 15/100\n",
      "2s - loss: 0.0093 - acc: 0.9504 - val_loss: 0.0092 - val_acc: 0.9505\n",
      "Epoch 16/100\n",
      "2s - loss: 0.0090 - acc: 0.9523 - val_loss: 0.0090 - val_acc: 0.9526\n",
      "Epoch 17/100\n",
      "3s - loss: 0.0087 - acc: 0.9536 - val_loss: 0.0088 - val_acc: 0.9533\n",
      "Epoch 18/100\n",
      "2s - loss: 0.0085 - acc: 0.9552 - val_loss: 0.0086 - val_acc: 0.9545\n",
      "Epoch 19/100\n",
      "3s - loss: 0.0083 - acc: 0.9561 - val_loss: 0.0084 - val_acc: 0.9557\n",
      "Epoch 20/100\n",
      "3s - loss: 0.0081 - acc: 0.9576 - val_loss: 0.0082 - val_acc: 0.9555\n",
      "Epoch 21/100\n",
      "3s - loss: 0.0079 - acc: 0.9586 - val_loss: 0.0081 - val_acc: 0.9566\n",
      "Epoch 22/100\n",
      "3s - loss: 0.0077 - acc: 0.9593 - val_loss: 0.0080 - val_acc: 0.9570\n",
      "Epoch 23/100\n",
      "3s - loss: 0.0075 - acc: 0.9603 - val_loss: 0.0078 - val_acc: 0.9575\n",
      "Epoch 24/100\n",
      "3s - loss: 0.0074 - acc: 0.9611 - val_loss: 0.0078 - val_acc: 0.9592\n",
      "Epoch 25/100\n",
      "3s - loss: 0.0072 - acc: 0.9620 - val_loss: 0.0077 - val_acc: 0.9585\n",
      "Epoch 26/100\n",
      "3s - loss: 0.0071 - acc: 0.9626 - val_loss: 0.0075 - val_acc: 0.9607\n",
      "Epoch 27/100\n",
      "3s - loss: 0.0070 - acc: 0.9637 - val_loss: 0.0074 - val_acc: 0.9601\n",
      "Epoch 28/100\n",
      "3s - loss: 0.0068 - acc: 0.9642 - val_loss: 0.0073 - val_acc: 0.9608\n",
      "Epoch 29/100\n",
      "3s - loss: 0.0067 - acc: 0.9648 - val_loss: 0.0072 - val_acc: 0.9615\n",
      "Epoch 30/100\n",
      "3s - loss: 0.0066 - acc: 0.9655 - val_loss: 0.0071 - val_acc: 0.9617\n",
      "Epoch 31/100\n",
      "4s - loss: 0.0065 - acc: 0.9662 - val_loss: 0.0070 - val_acc: 0.9624\n",
      "Epoch 32/100\n",
      "2s - loss: 0.0064 - acc: 0.9667 - val_loss: 0.0070 - val_acc: 0.9623\n",
      "Epoch 33/100\n",
      "2s - loss: 0.0063 - acc: 0.9672 - val_loss: 0.0069 - val_acc: 0.9631\n",
      "Epoch 34/100\n",
      "3s - loss: 0.0062 - acc: 0.9678 - val_loss: 0.0069 - val_acc: 0.9624\n",
      "Epoch 35/100\n",
      "3s - loss: 0.0061 - acc: 0.9681 - val_loss: 0.0067 - val_acc: 0.9637\n",
      "Epoch 36/100\n",
      "3s - loss: 0.0060 - acc: 0.9687 - val_loss: 0.0067 - val_acc: 0.9636\n",
      "Epoch 37/100\n",
      "3s - loss: 0.0059 - acc: 0.9692 - val_loss: 0.0066 - val_acc: 0.9636\n",
      "Epoch 38/100\n",
      "3s - loss: 0.0059 - acc: 0.9697 - val_loss: 0.0066 - val_acc: 0.9643\n",
      "Epoch 39/100\n",
      "3s - loss: 0.0058 - acc: 0.9700 - val_loss: 0.0066 - val_acc: 0.9645\n",
      "Epoch 40/100\n",
      "3s - loss: 0.0057 - acc: 0.9703 - val_loss: 0.0065 - val_acc: 0.9647\n",
      "Epoch 41/100\n",
      "3s - loss: 0.0056 - acc: 0.9710 - val_loss: 0.0065 - val_acc: 0.9648\n",
      "Epoch 42/100\n",
      "3s - loss: 0.0056 - acc: 0.9715 - val_loss: 0.0064 - val_acc: 0.9652\n",
      "Epoch 43/100\n",
      "3s - loss: 0.0055 - acc: 0.9719 - val_loss: 0.0063 - val_acc: 0.9658\n",
      "Epoch 44/100\n",
      "3s - loss: 0.0054 - acc: 0.9722 - val_loss: 0.0063 - val_acc: 0.9656\n",
      "Epoch 45/100\n",
      "3s - loss: 0.0054 - acc: 0.9726 - val_loss: 0.0062 - val_acc: 0.9662\n",
      "Epoch 46/100\n",
      "3s - loss: 0.0053 - acc: 0.9730 - val_loss: 0.0062 - val_acc: 0.9669\n",
      "Epoch 47/100\n",
      "3s - loss: 0.0053 - acc: 0.9733 - val_loss: 0.0062 - val_acc: 0.9664\n",
      "Epoch 48/100\n",
      "3s - loss: 0.0052 - acc: 0.9739 - val_loss: 0.0062 - val_acc: 0.9665\n",
      "Epoch 49/100\n",
      "3s - loss: 0.0051 - acc: 0.9742 - val_loss: 0.0061 - val_acc: 0.9670\n",
      "Epoch 50/100\n",
      "3s - loss: 0.0051 - acc: 0.9743 - val_loss: 0.0061 - val_acc: 0.9670\n",
      "Epoch 51/100\n",
      "3s - loss: 0.0050 - acc: 0.9747 - val_loss: 0.0060 - val_acc: 0.9678\n",
      "Epoch 52/100\n",
      "3s - loss: 0.0050 - acc: 0.9748 - val_loss: 0.0060 - val_acc: 0.9681\n",
      "Epoch 53/100\n",
      "3s - loss: 0.0049 - acc: 0.9749 - val_loss: 0.0060 - val_acc: 0.9681\n",
      "Epoch 54/100\n",
      "3s - loss: 0.0049 - acc: 0.9752 - val_loss: 0.0059 - val_acc: 0.9681\n",
      "Epoch 55/100\n",
      "3s - loss: 0.0048 - acc: 0.9758 - val_loss: 0.0059 - val_acc: 0.9674\n",
      "Epoch 56/100\n",
      "3s - loss: 0.0048 - acc: 0.9757 - val_loss: 0.0059 - val_acc: 0.9678\n",
      "Epoch 57/100\n",
      "3s - loss: 0.0047 - acc: 0.9760 - val_loss: 0.0058 - val_acc: 0.9686\n",
      "Epoch 58/100\n",
      "3s - loss: 0.0047 - acc: 0.9763 - val_loss: 0.0058 - val_acc: 0.9684\n",
      "Epoch 59/100\n",
      "3s - loss: 0.0047 - acc: 0.9764 - val_loss: 0.0058 - val_acc: 0.9693\n",
      "Epoch 60/100\n",
      "3s - loss: 0.0046 - acc: 0.9765 - val_loss: 0.0058 - val_acc: 0.9689\n",
      "Epoch 61/100\n",
      "3s - loss: 0.0046 - acc: 0.9769 - val_loss: 0.0057 - val_acc: 0.9693\n",
      "Epoch 62/100\n",
      "3s - loss: 0.0045 - acc: 0.9769 - val_loss: 0.0057 - val_acc: 0.9693\n",
      "Epoch 63/100\n",
      "3s - loss: 0.0045 - acc: 0.9770 - val_loss: 0.0057 - val_acc: 0.9700\n",
      "Epoch 64/100\n",
      "3s - loss: 0.0045 - acc: 0.9773 - val_loss: 0.0057 - val_acc: 0.9695\n",
      "Epoch 65/100\n",
      "3s - loss: 0.0044 - acc: 0.9774 - val_loss: 0.0057 - val_acc: 0.9698\n",
      "Epoch 66/100\n",
      "4s - loss: 0.0044 - acc: 0.9778 - val_loss: 0.0057 - val_acc: 0.9687\n",
      "Epoch 67/100\n",
      "3s - loss: 0.0044 - acc: 0.9777 - val_loss: 0.0056 - val_acc: 0.9704\n",
      "Epoch 68/100\n",
      "2s - loss: 0.0043 - acc: 0.9782 - val_loss: 0.0056 - val_acc: 0.9695\n",
      "Epoch 69/100\n",
      "3s - loss: 0.0043 - acc: 0.9781 - val_loss: 0.0055 - val_acc: 0.9704\n",
      "Epoch 70/100\n",
      "3s - loss: 0.0043 - acc: 0.9784 - val_loss: 0.0056 - val_acc: 0.9703\n",
      "Epoch 71/100\n",
      "3s - loss: 0.0042 - acc: 0.9785 - val_loss: 0.0055 - val_acc: 0.9703\n",
      "Epoch 72/100\n",
      "3s - loss: 0.0042 - acc: 0.9788 - val_loss: 0.0055 - val_acc: 0.9707\n",
      "Epoch 73/100\n",
      "3s - loss: 0.0042 - acc: 0.9791 - val_loss: 0.0055 - val_acc: 0.9706\n",
      "Epoch 74/100\n",
      "3s - loss: 0.0041 - acc: 0.9792 - val_loss: 0.0055 - val_acc: 0.9703\n",
      "Epoch 75/100\n",
      "3s - loss: 0.0041 - acc: 0.9793 - val_loss: 0.0054 - val_acc: 0.9700\n",
      "Epoch 76/100\n",
      "3s - loss: 0.0041 - acc: 0.9795 - val_loss: 0.0054 - val_acc: 0.9702\n",
      "Epoch 77/100\n",
      "3s - loss: 0.0040 - acc: 0.9799 - val_loss: 0.0054 - val_acc: 0.9707\n",
      "Epoch 78/100\n",
      "3s - loss: 0.0040 - acc: 0.9798 - val_loss: 0.0054 - val_acc: 0.9703\n",
      "Epoch 79/100\n",
      "3s - loss: 0.0040 - acc: 0.9800 - val_loss: 0.0054 - val_acc: 0.9710\n",
      "Epoch 80/100\n",
      "3s - loss: 0.0040 - acc: 0.9800 - val_loss: 0.0054 - val_acc: 0.9707\n",
      "Epoch 81/100\n",
      "3s - loss: 0.0039 - acc: 0.9800 - val_loss: 0.0054 - val_acc: 0.9710\n",
      "Epoch 82/100\n",
      "3s - loss: 0.0039 - acc: 0.9802 - val_loss: 0.0054 - val_acc: 0.9714\n",
      "Epoch 83/100\n",
      "3s - loss: 0.0039 - acc: 0.9805 - val_loss: 0.0053 - val_acc: 0.9715\n",
      "Epoch 84/100\n",
      "4s - loss: 0.0038 - acc: 0.9805 - val_loss: 0.0053 - val_acc: 0.9715\n",
      "Epoch 85/100\n",
      "4s - loss: 0.0038 - acc: 0.9808 - val_loss: 0.0053 - val_acc: 0.9719\n",
      "Epoch 86/100\n",
      "3s - loss: 0.0038 - acc: 0.9809 - val_loss: 0.0053 - val_acc: 0.9709\n",
      "Epoch 87/100\n",
      "3s - loss: 0.0038 - acc: 0.9809 - val_loss: 0.0053 - val_acc: 0.9718\n",
      "Epoch 88/100\n",
      "2s - loss: 0.0037 - acc: 0.9811 - val_loss: 0.0053 - val_acc: 0.9711\n",
      "Epoch 89/100\n",
      "3s - loss: 0.0037 - acc: 0.9813 - val_loss: 0.0053 - val_acc: 0.9717\n",
      "Epoch 90/100\n",
      "3s - loss: 0.0037 - acc: 0.9814 - val_loss: 0.0053 - val_acc: 0.9714\n",
      "Epoch 91/100\n",
      "2s - loss: 0.0037 - acc: 0.9816 - val_loss: 0.0053 - val_acc: 0.9718\n",
      "Epoch 92/100\n",
      "3s - loss: 0.0037 - acc: 0.9815 - val_loss: 0.0052 - val_acc: 0.9725\n",
      "Epoch 93/100\n",
      "4s - loss: 0.0036 - acc: 0.9817 - val_loss: 0.0052 - val_acc: 0.9720\n",
      "Epoch 94/100\n",
      "3s - loss: 0.0036 - acc: 0.9817 - val_loss: 0.0052 - val_acc: 0.9723\n",
      "Epoch 95/100\n",
      "3s - loss: 0.0036 - acc: 0.9820 - val_loss: 0.0052 - val_acc: 0.9717\n",
      "Epoch 96/100\n",
      "2s - loss: 0.0036 - acc: 0.9818 - val_loss: 0.0052 - val_acc: 0.9721\n",
      "Epoch 97/100\n",
      "2s - loss: 0.0036 - acc: 0.9823 - val_loss: 0.0052 - val_acc: 0.9718\n",
      "Epoch 98/100\n",
      "3s - loss: 0.0035 - acc: 0.9825 - val_loss: 0.0052 - val_acc: 0.9718\n",
      "Epoch 99/100\n",
      "3s - loss: 0.0035 - acc: 0.9821 - val_loss: 0.0052 - val_acc: 0.9724\n",
      "Epoch 100/100\n",
      "3s - loss: 0.0035 - acc: 0.9822 - val_loss: 0.0052 - val_acc: 0.9717\n",
      "Wall time: 5min 35s\n"
     ]
    }
   ],
   "source": [
    "%%time\n",
    "hist = model.fit(X_train, Y_train, nb_epoch=100, batch_size=30, validation_data=(X_test, Y_test), verbose=2)"
   ]
  },
  {
   "cell_type": "code",
   "execution_count": 13,
   "metadata": {},
   "outputs": [
    {
     "data": {
      "image/png": "[encoded data removed]",
      "text/plain": [
       "<matplotlib.figure.Figure at 0xc06c518>"
      ]
     },
     "metadata": {},
     "output_type": "display_data"
    }
   ],
   "source": [
    "plt.plot(hist.history['loss'])\n",
    "plt.show()"
   ]
  },
  {
   "cell_type": "code",
   "execution_count": 14,
   "metadata": {},
   "outputs": [
    {
     "data": {
      "image/png": "[encoded data removed]",
      "text/plain": [
       "<matplotlib.figure.Figure at 0xf9f59e8>"
      ]
     },
     "metadata": {},
     "output_type": "display_data"
    }
   ],
   "source": [
    "plt.plot(hist.history['acc'], 'b-', label=\"training\")\n",
    "plt.plot(hist.history['val_acc'], 'r:', label=\"test\")\n",
    "plt.legend()\n",
    "plt.show()"
   ]
  },
  {
   "cell_type": "code",
   "execution_count": 15,
   "metadata": {
    "collapsed": true
   },
   "outputs": [],
   "source": [
    "model.save_weights(\"my_model.h5\")"
   ]
  },
  {
   "cell_type": "code",
   "execution_count": 16,
   "metadata": {
    "collapsed": true
   },
   "outputs": [],
   "source": [
    "model.save('my_model2.h5')"
   ]
  },
  {
   "cell_type": "code",
   "execution_count": null,
   "metadata": {
    "collapsed": true
   },
   "outputs": [],
   "source": []
  }
 ],
 "metadata": {
  "kernelspec": {
   "display_name": "Python 3",
   "language": "python",
   "name": "python3"
  },
  "language_info": {
   "codemirror_mode": {
    "name": "ipython",
    "version": 3
   },
   "file_extension": ".py",
   "mimetype": "text/x-python",
   "name": "python",
   "nbconvert_exporter": "python",
   "pygments_lexer": "ipython3",
   "version": "3.5.3"
  }
 },
 "nbformat": 4,
 "nbformat_minor": 2
}
